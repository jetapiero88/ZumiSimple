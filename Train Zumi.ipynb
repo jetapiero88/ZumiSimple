{
 "cells": [
  {
   "cell_type": "markdown",
   "metadata": {},
   "source": [
    "# Train Zumi to recognize images"
   ]
  },
  {
   "cell_type": "code",
   "execution_count": 1,
   "metadata": {},
   "outputs": [
    {
     "name": "stderr",
     "output_type": "stream",
     "text": [
      "/opt/tljh/user/lib/python3.6/site-packages/tensorflow/python/framework/dtypes.py:523: FutureWarning: Passing (type, 1) or '1type' as a synonym of type is deprecated; in a future version of numpy, it will be understood as (type, (1,)) / '(1,)type'.\n",
      "  _np_qint8 = np.dtype([(\"qint8\", np.int8, 1)])\n",
      "/opt/tljh/user/lib/python3.6/site-packages/tensorflow/python/framework/dtypes.py:524: FutureWarning: Passing (type, 1) or '1type' as a synonym of type is deprecated; in a future version of numpy, it will be understood as (type, (1,)) / '(1,)type'.\n",
      "  _np_quint8 = np.dtype([(\"quint8\", np.uint8, 1)])\n",
      "/opt/tljh/user/lib/python3.6/site-packages/tensorflow/python/framework/dtypes.py:525: FutureWarning: Passing (type, 1) or '1type' as a synonym of type is deprecated; in a future version of numpy, it will be understood as (type, (1,)) / '(1,)type'.\n",
      "  _np_qint16 = np.dtype([(\"qint16\", np.int16, 1)])\n",
      "/opt/tljh/user/lib/python3.6/site-packages/tensorflow/python/framework/dtypes.py:526: FutureWarning: Passing (type, 1) or '1type' as a synonym of type is deprecated; in a future version of numpy, it will be understood as (type, (1,)) / '(1,)type'.\n",
      "  _np_quint16 = np.dtype([(\"quint16\", np.uint16, 1)])\n",
      "/opt/tljh/user/lib/python3.6/site-packages/tensorflow/python/framework/dtypes.py:527: FutureWarning: Passing (type, 1) or '1type' as a synonym of type is deprecated; in a future version of numpy, it will be understood as (type, (1,)) / '(1,)type'.\n",
      "  _np_qint32 = np.dtype([(\"qint32\", np.int32, 1)])\n",
      "/opt/tljh/user/lib/python3.6/site-packages/tensorflow/python/framework/dtypes.py:532: FutureWarning: Passing (type, 1) or '1type' as a synonym of type is deprecated; in a future version of numpy, it will be understood as (type, (1,)) / '(1,)type'.\n",
      "  np_resource = np.dtype([(\"resource\", np.ubyte, 1)])\n"
     ]
    },
    {
     "name": "stdout",
     "output_type": "stream",
     "text": [
      "Input the name you used to save your dataset plus .zip, for example: signs.zip: signs.zip\n",
      "Input the name you wish your model to have: signsmodel\n",
      "Epoch 1/20\n",
      "100/100 [==============================] - 9s 92ms/step - loss: 0.9482 - acc: 0.6430 - val_loss: 3.0303 - val_acc: 0.2500\n",
      "Epoch 2/20\n",
      "100/100 [==============================] - 6s 56ms/step - loss: 0.2504 - acc: 0.8990 - val_loss: 7.1490 - val_acc: 0.2500\n",
      "Epoch 3/20\n",
      "100/100 [==============================] - 6s 57ms/step - loss: 0.1708 - acc: 0.9390 - val_loss: 9.6233 - val_acc: 0.2500\n",
      "Epoch 4/20\n",
      "100/100 [==============================] - 6s 56ms/step - loss: 0.0682 - acc: 0.9770 - val_loss: 10.3947 - val_acc: 0.2500\n",
      "Epoch 5/20\n",
      "100/100 [==============================] - 6s 57ms/step - loss: 0.0721 - acc: 0.9790 - val_loss: 10.9861 - val_acc: 0.2500\n",
      "Epoch 6/20\n",
      "100/100 [==============================] - 6s 56ms/step - loss: 0.0620 - acc: 0.9740 - val_loss: 7.0646 - val_acc: 0.2500\n",
      "Epoch 7/20\n",
      "100/100 [==============================] - 6s 57ms/step - loss: 0.0503 - acc: 0.9860 - val_loss: 4.7746 - val_acc: 0.2500\n",
      "Epoch 8/20\n",
      "100/100 [==============================] - 6s 56ms/step - loss: 0.0482 - acc: 0.9810 - val_loss: 0.1939 - val_acc: 0.9500\n",
      "Epoch 9/20\n",
      "100/100 [==============================] - 6s 57ms/step - loss: 0.0632 - acc: 0.9800 - val_loss: 0.1028 - val_acc: 0.9500\n",
      "Epoch 10/20\n",
      "100/100 [==============================] - 6s 56ms/step - loss: 0.0391 - acc: 0.9870 - val_loss: 0.0452 - val_acc: 0.9750\n",
      "Epoch 11/20\n",
      "100/100 [==============================] - 6s 57ms/step - loss: 0.0472 - acc: 0.9820 - val_loss: 0.4065 - val_acc: 0.8750\n",
      "Epoch 12/20\n",
      "100/100 [==============================] - 6s 56ms/step - loss: 0.0420 - acc: 0.9870 - val_loss: 0.5167 - val_acc: 0.8250\n",
      "Epoch 13/20\n",
      "100/100 [==============================] - 6s 57ms/step - loss: 0.0321 - acc: 0.9910 - val_loss: 1.1307 - val_acc: 0.7500\n",
      "Epoch 14/20\n",
      "100/100 [==============================] - 6s 56ms/step - loss: 0.0247 - acc: 0.9890 - val_loss: 0.4325 - val_acc: 0.9250\n",
      "Epoch 15/20\n",
      "100/100 [==============================] - 6s 57ms/step - loss: 0.0391 - acc: 0.9910 - val_loss: 0.2075 - val_acc: 0.9500\n",
      "Epoch 16/20\n",
      "100/100 [==============================] - 6s 56ms/step - loss: 0.0327 - acc: 0.9930 - val_loss: 1.3519 - val_acc: 0.7000\n",
      "Epoch 17/20\n",
      "100/100 [==============================] - 6s 57ms/step - loss: 0.0199 - acc: 0.9940 - val_loss: 0.0614 - val_acc: 1.0000\n",
      "Epoch 18/20\n",
      "100/100 [==============================] - 6s 56ms/step - loss: 0.0242 - acc: 0.9910 - val_loss: 0.2058 - val_acc: 0.9500\n",
      "Epoch 19/20\n",
      "100/100 [==============================] - 6s 57ms/step - loss: 0.0219 - acc: 0.9910 - val_loss: 0.5392 - val_acc: 0.7500\n",
      "Epoch 20/20\n",
      "100/100 [==============================] - 6s 56ms/step - loss: 0.0170 - acc: 0.9960 - val_loss: 1.2289 - val_acc: 0.7500\n",
      "Your model was trained and uploaded to the cloud as: signsmodel.zip\n"
     ]
    }
   ],
   "source": [
    "import zumitraining\n",
    "\n",
    "dataset_name_zip = input('Input the name you used to save your dataset plus .zip, for example: signs.zip: ')\n",
    "\n",
    "model_name = input('Input the name you wish your model to have: ')\n",
    "\n",
    "zumitraining.train_and_upload_model(dataset_name_zip, model_name)"
   ]
  },
  {
   "cell_type": "code",
   "execution_count": null,
   "metadata": {},
   "outputs": [],
   "source": []
  }
 ],
 "metadata": {
  "kernelspec": {
   "display_name": "Python 3",
   "language": "python",
   "name": "python3"
  },
  "language_info": {
   "codemirror_mode": {
    "name": "ipython",
    "version": 3
   },
   "file_extension": ".py",
   "mimetype": "text/x-python",
   "name": "python",
   "nbconvert_exporter": "python",
   "pygments_lexer": "ipython3",
   "version": "3.6.7"
  }
 },
 "nbformat": 4,
 "nbformat_minor": 2
}
